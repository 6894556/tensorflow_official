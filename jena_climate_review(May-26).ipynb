{
 "cells": [
  {
   "cell_type": "code",
   "execution_count": 65,
   "id": "f82c5d41",
   "metadata": {},
   "outputs": [],
   "source": [
    "import tensorflow as tf\n",
    "import numpy as np\n",
    "import pandas as pd\n",
    "pd.options.display.float_format = \"{:.2f}\".format\n",
    "\n",
    "import matplotlib.pyplot as plt\n",
    "import seaborn as sns"
   ]
  },
  {
   "cell_type": "code",
   "execution_count": 2,
   "id": "abb84092",
   "metadata": {},
   "outputs": [],
   "source": [
    "csv_path = \"C:/Users/USER/.keras/datasets/jena_climate_2009_2016.csv\""
   ]
  },
  {
   "cell_type": "code",
   "execution_count": 3,
   "id": "76d3a299",
   "metadata": {},
   "outputs": [],
   "source": [
    "df = pd.read_csv(csv_path)"
   ]
  },
  {
   "cell_type": "markdown",
   "id": "3ce467e7",
   "metadata": {},
   "source": [
    "- step=10min"
   ]
  },
  {
   "cell_type": "code",
   "execution_count": 4,
   "id": "333c143d",
   "metadata": {},
   "outputs": [
    {
     "data": {
      "text/html": [
       "<div>\n",
       "<style scoped>\n",
       "    .dataframe tbody tr th:only-of-type {\n",
       "        vertical-align: middle;\n",
       "    }\n",
       "\n",
       "    .dataframe tbody tr th {\n",
       "        vertical-align: top;\n",
       "    }\n",
       "\n",
       "    .dataframe thead th {\n",
       "        text-align: right;\n",
       "    }\n",
       "</style>\n",
       "<table border=\"1\" class=\"dataframe\">\n",
       "  <thead>\n",
       "    <tr style=\"text-align: right;\">\n",
       "      <th></th>\n",
       "      <th>Date Time</th>\n",
       "      <th>p (mbar)</th>\n",
       "      <th>T (degC)</th>\n",
       "      <th>Tpot (K)</th>\n",
       "      <th>Tdew (degC)</th>\n",
       "      <th>rh (%)</th>\n",
       "      <th>VPmax (mbar)</th>\n",
       "      <th>VPact (mbar)</th>\n",
       "      <th>VPdef (mbar)</th>\n",
       "      <th>sh (g/kg)</th>\n",
       "      <th>H2OC (mmol/mol)</th>\n",
       "      <th>rho (g/m**3)</th>\n",
       "      <th>wv (m/s)</th>\n",
       "      <th>max. wv (m/s)</th>\n",
       "      <th>wd (deg)</th>\n",
       "    </tr>\n",
       "  </thead>\n",
       "  <tbody>\n",
       "    <tr>\n",
       "      <th>0</th>\n",
       "      <td>01.01.2009 00:10:00</td>\n",
       "      <td>996.52</td>\n",
       "      <td>-8.02</td>\n",
       "      <td>265.40</td>\n",
       "      <td>-8.90</td>\n",
       "      <td>93.30</td>\n",
       "      <td>3.33</td>\n",
       "      <td>3.11</td>\n",
       "      <td>0.22</td>\n",
       "      <td>1.94</td>\n",
       "      <td>3.12</td>\n",
       "      <td>1307.75</td>\n",
       "      <td>1.03</td>\n",
       "      <td>1.75</td>\n",
       "      <td>152.30</td>\n",
       "    </tr>\n",
       "    <tr>\n",
       "      <th>1</th>\n",
       "      <td>01.01.2009 00:20:00</td>\n",
       "      <td>996.57</td>\n",
       "      <td>-8.41</td>\n",
       "      <td>265.01</td>\n",
       "      <td>-9.28</td>\n",
       "      <td>93.40</td>\n",
       "      <td>3.23</td>\n",
       "      <td>3.02</td>\n",
       "      <td>0.21</td>\n",
       "      <td>1.89</td>\n",
       "      <td>3.03</td>\n",
       "      <td>1309.80</td>\n",
       "      <td>0.72</td>\n",
       "      <td>1.50</td>\n",
       "      <td>136.10</td>\n",
       "    </tr>\n",
       "  </tbody>\n",
       "</table>\n",
       "</div>"
      ],
      "text/plain": [
       "             Date Time  p (mbar)  T (degC)  Tpot (K)  Tdew (degC)  rh (%)  \\\n",
       "0  01.01.2009 00:10:00    996.52     -8.02    265.40        -8.90   93.30   \n",
       "1  01.01.2009 00:20:00    996.57     -8.41    265.01        -9.28   93.40   \n",
       "\n",
       "   VPmax (mbar)  VPact (mbar)  VPdef (mbar)  sh (g/kg)  H2OC (mmol/mol)  \\\n",
       "0          3.33          3.11          0.22       1.94             3.12   \n",
       "1          3.23          3.02          0.21       1.89             3.03   \n",
       "\n",
       "   rho (g/m**3)  wv (m/s)  max. wv (m/s)  wd (deg)  \n",
       "0       1307.75      1.03           1.75    152.30  \n",
       "1       1309.80      0.72           1.50    136.10  "
      ]
     },
     "execution_count": 4,
     "metadata": {},
     "output_type": "execute_result"
    }
   ],
   "source": [
    "df.head(2)"
   ]
  },
  {
   "cell_type": "code",
   "execution_count": 5,
   "id": "dbbaec88",
   "metadata": {},
   "outputs": [],
   "source": [
    "df1 = df[5::6]"
   ]
  },
  {
   "cell_type": "markdown",
   "id": "bcd477ad",
   "metadata": {},
   "source": [
    "- step=1h"
   ]
  },
  {
   "cell_type": "code",
   "execution_count": 6,
   "id": "80670beb",
   "metadata": {},
   "outputs": [
    {
     "data": {
      "text/html": [
       "<div>\n",
       "<style scoped>\n",
       "    .dataframe tbody tr th:only-of-type {\n",
       "        vertical-align: middle;\n",
       "    }\n",
       "\n",
       "    .dataframe tbody tr th {\n",
       "        vertical-align: top;\n",
       "    }\n",
       "\n",
       "    .dataframe thead th {\n",
       "        text-align: right;\n",
       "    }\n",
       "</style>\n",
       "<table border=\"1\" class=\"dataframe\">\n",
       "  <thead>\n",
       "    <tr style=\"text-align: right;\">\n",
       "      <th></th>\n",
       "      <th>Date Time</th>\n",
       "      <th>p (mbar)</th>\n",
       "      <th>T (degC)</th>\n",
       "      <th>Tpot (K)</th>\n",
       "      <th>Tdew (degC)</th>\n",
       "      <th>rh (%)</th>\n",
       "      <th>VPmax (mbar)</th>\n",
       "      <th>VPact (mbar)</th>\n",
       "      <th>VPdef (mbar)</th>\n",
       "      <th>sh (g/kg)</th>\n",
       "      <th>H2OC (mmol/mol)</th>\n",
       "      <th>rho (g/m**3)</th>\n",
       "      <th>wv (m/s)</th>\n",
       "      <th>max. wv (m/s)</th>\n",
       "      <th>wd (deg)</th>\n",
       "    </tr>\n",
       "  </thead>\n",
       "  <tbody>\n",
       "    <tr>\n",
       "      <th>5</th>\n",
       "      <td>01.01.2009 01:00:00</td>\n",
       "      <td>996.50</td>\n",
       "      <td>-8.05</td>\n",
       "      <td>265.38</td>\n",
       "      <td>-8.78</td>\n",
       "      <td>94.40</td>\n",
       "      <td>3.33</td>\n",
       "      <td>3.14</td>\n",
       "      <td>0.19</td>\n",
       "      <td>1.96</td>\n",
       "      <td>3.15</td>\n",
       "      <td>1307.86</td>\n",
       "      <td>0.21</td>\n",
       "      <td>0.63</td>\n",
       "      <td>192.70</td>\n",
       "    </tr>\n",
       "    <tr>\n",
       "      <th>11</th>\n",
       "      <td>01.01.2009 02:00:00</td>\n",
       "      <td>996.62</td>\n",
       "      <td>-8.88</td>\n",
       "      <td>264.54</td>\n",
       "      <td>-9.77</td>\n",
       "      <td>93.20</td>\n",
       "      <td>3.12</td>\n",
       "      <td>2.90</td>\n",
       "      <td>0.21</td>\n",
       "      <td>1.81</td>\n",
       "      <td>2.91</td>\n",
       "      <td>1312.25</td>\n",
       "      <td>0.25</td>\n",
       "      <td>0.63</td>\n",
       "      <td>190.30</td>\n",
       "    </tr>\n",
       "  </tbody>\n",
       "</table>\n",
       "</div>"
      ],
      "text/plain": [
       "              Date Time  p (mbar)  T (degC)  Tpot (K)  Tdew (degC)  rh (%)  \\\n",
       "5   01.01.2009 01:00:00    996.50     -8.05    265.38        -8.78   94.40   \n",
       "11  01.01.2009 02:00:00    996.62     -8.88    264.54        -9.77   93.20   \n",
       "\n",
       "    VPmax (mbar)  VPact (mbar)  VPdef (mbar)  sh (g/kg)  H2OC (mmol/mol)  \\\n",
       "5           3.33          3.14          0.19       1.96             3.15   \n",
       "11          3.12          2.90          0.21       1.81             2.91   \n",
       "\n",
       "    rho (g/m**3)  wv (m/s)  max. wv (m/s)  wd (deg)  \n",
       "5        1307.86      0.21           0.63    192.70  \n",
       "11       1312.25      0.25           0.63    190.30  "
      ]
     },
     "execution_count": 6,
     "metadata": {},
     "output_type": "execute_result"
    }
   ],
   "source": [
    "df1.head(2)"
   ]
  },
  {
   "cell_type": "code",
   "execution_count": null,
   "id": "b9f2d52e",
   "metadata": {},
   "outputs": [],
   "source": []
  },
  {
   "cell_type": "code",
   "execution_count": 7,
   "id": "664da851",
   "metadata": {},
   "outputs": [
    {
     "data": {
      "text/plain": [
       "5        2009-01-01 01:00:00\n",
       "11       2009-01-01 02:00:00\n",
       "17       2009-01-01 03:00:00\n",
       "23       2009-01-01 04:00:00\n",
       "29       2009-01-01 05:00:00\n",
       "                 ...        \n",
       "420521   2016-12-31 19:10:00\n",
       "420527   2016-12-31 20:10:00\n",
       "420533   2016-12-31 21:10:00\n",
       "420539   2016-12-31 22:10:00\n",
       "420545   2016-12-31 23:10:00\n",
       "Name: Date Time, Length: 70091, dtype: datetime64[ns]"
      ]
     },
     "execution_count": 7,
     "metadata": {},
     "output_type": "execute_result"
    }
   ],
   "source": [
    "pd.to_datetime(df1[\"Date Time\"], format=\"%d.%m.%Y %H:%M:%S\")"
   ]
  },
  {
   "cell_type": "code",
   "execution_count": 8,
   "id": "eb05d3c3",
   "metadata": {},
   "outputs": [],
   "source": [
    "df2 = df1.set_index(pd.to_datetime(df1.pop(\"Date Time\"), format=\"%d.%m.%Y %H:%M:%S\"))"
   ]
  },
  {
   "cell_type": "code",
   "execution_count": 9,
   "id": "7b4a728e",
   "metadata": {},
   "outputs": [
    {
     "data": {
      "text/plain": [
       "DatetimeIndex(['2009-01-01 01:00:00', '2009-01-01 02:00:00',\n",
       "               '2009-01-01 03:00:00', '2009-01-01 04:00:00',\n",
       "               '2009-01-01 05:00:00', '2009-01-01 06:00:00',\n",
       "               '2009-01-01 07:00:00', '2009-01-01 08:00:00',\n",
       "               '2009-01-01 09:00:00', '2009-01-01 10:00:00',\n",
       "               ...\n",
       "               '2016-12-31 14:10:00', '2016-12-31 15:10:00',\n",
       "               '2016-12-31 16:10:00', '2016-12-31 17:10:00',\n",
       "               '2016-12-31 18:10:00', '2016-12-31 19:10:00',\n",
       "               '2016-12-31 20:10:00', '2016-12-31 21:10:00',\n",
       "               '2016-12-31 22:10:00', '2016-12-31 23:10:00'],\n",
       "              dtype='datetime64[ns]', name='Date Time', length=70091, freq=None)"
      ]
     },
     "execution_count": 9,
     "metadata": {},
     "output_type": "execute_result"
    }
   ],
   "source": [
    "df2.index"
   ]
  },
  {
   "cell_type": "code",
   "execution_count": null,
   "id": "6b6bb9b3",
   "metadata": {},
   "outputs": [],
   "source": []
  },
  {
   "cell_type": "code",
   "execution_count": null,
   "id": "2f317e62",
   "metadata": {},
   "outputs": [],
   "source": []
  },
  {
   "cell_type": "code",
   "execution_count": 10,
   "id": "c30e17a8",
   "metadata": {},
   "outputs": [],
   "source": [
    "n = len(df2)\n",
    "train_df = df2.iloc[: int(n*0.7)]\n",
    "val_df = df2.iloc[int(n*0.7): int(n*0.9)]\n",
    "test_df = df2.iloc[int(n*0.9):]\n",
    "\n",
    "train_mean = train_df.mean()\n",
    "train_std = train_df.std()\n",
    "train_df = (train_df - train_mean) / train_std\n",
    "val_df = (val_df - train_mean) / train_std\n",
    "test_df = (test_df - train_mean) / train_std"
   ]
  },
  {
   "cell_type": "code",
   "execution_count": 11,
   "id": "ffb7b09e",
   "metadata": {},
   "outputs": [
    {
     "data": {
      "text/html": [
       "<div>\n",
       "<style scoped>\n",
       "    .dataframe tbody tr th:only-of-type {\n",
       "        vertical-align: middle;\n",
       "    }\n",
       "\n",
       "    .dataframe tbody tr th {\n",
       "        vertical-align: top;\n",
       "    }\n",
       "\n",
       "    .dataframe thead th {\n",
       "        text-align: right;\n",
       "    }\n",
       "</style>\n",
       "<table border=\"1\" class=\"dataframe\">\n",
       "  <thead>\n",
       "    <tr style=\"text-align: right;\">\n",
       "      <th></th>\n",
       "      <th>mean</th>\n",
       "      <th>std</th>\n",
       "    </tr>\n",
       "  </thead>\n",
       "  <tbody>\n",
       "    <tr>\n",
       "      <th>p (mbar)</th>\n",
       "      <td>0.00</td>\n",
       "      <td>1.00</td>\n",
       "    </tr>\n",
       "    <tr>\n",
       "      <th>T (degC)</th>\n",
       "      <td>-0.00</td>\n",
       "      <td>1.00</td>\n",
       "    </tr>\n",
       "    <tr>\n",
       "      <th>Tpot (K)</th>\n",
       "      <td>0.00</td>\n",
       "      <td>1.00</td>\n",
       "    </tr>\n",
       "    <tr>\n",
       "      <th>Tdew (degC)</th>\n",
       "      <td>0.00</td>\n",
       "      <td>1.00</td>\n",
       "    </tr>\n",
       "    <tr>\n",
       "      <th>rh (%)</th>\n",
       "      <td>-0.00</td>\n",
       "      <td>1.00</td>\n",
       "    </tr>\n",
       "    <tr>\n",
       "      <th>VPmax (mbar)</th>\n",
       "      <td>0.00</td>\n",
       "      <td>1.00</td>\n",
       "    </tr>\n",
       "    <tr>\n",
       "      <th>VPact (mbar)</th>\n",
       "      <td>-0.00</td>\n",
       "      <td>1.00</td>\n",
       "    </tr>\n",
       "    <tr>\n",
       "      <th>VPdef (mbar)</th>\n",
       "      <td>0.00</td>\n",
       "      <td>1.00</td>\n",
       "    </tr>\n",
       "    <tr>\n",
       "      <th>sh (g/kg)</th>\n",
       "      <td>-0.00</td>\n",
       "      <td>1.00</td>\n",
       "    </tr>\n",
       "    <tr>\n",
       "      <th>H2OC (mmol/mol)</th>\n",
       "      <td>0.00</td>\n",
       "      <td>1.00</td>\n",
       "    </tr>\n",
       "    <tr>\n",
       "      <th>rho (g/m**3)</th>\n",
       "      <td>-0.00</td>\n",
       "      <td>1.00</td>\n",
       "    </tr>\n",
       "    <tr>\n",
       "      <th>wv (m/s)</th>\n",
       "      <td>0.00</td>\n",
       "      <td>1.00</td>\n",
       "    </tr>\n",
       "    <tr>\n",
       "      <th>max. wv (m/s)</th>\n",
       "      <td>-0.00</td>\n",
       "      <td>1.00</td>\n",
       "    </tr>\n",
       "    <tr>\n",
       "      <th>wd (deg)</th>\n",
       "      <td>-0.00</td>\n",
       "      <td>1.00</td>\n",
       "    </tr>\n",
       "  </tbody>\n",
       "</table>\n",
       "</div>"
      ],
      "text/plain": [
       "                 mean  std\n",
       "p (mbar)         0.00 1.00\n",
       "T (degC)        -0.00 1.00\n",
       "Tpot (K)         0.00 1.00\n",
       "Tdew (degC)      0.00 1.00\n",
       "rh (%)          -0.00 1.00\n",
       "VPmax (mbar)     0.00 1.00\n",
       "VPact (mbar)    -0.00 1.00\n",
       "VPdef (mbar)     0.00 1.00\n",
       "sh (g/kg)       -0.00 1.00\n",
       "H2OC (mmol/mol)  0.00 1.00\n",
       "rho (g/m**3)    -0.00 1.00\n",
       "wv (m/s)         0.00 1.00\n",
       "max. wv (m/s)   -0.00 1.00\n",
       "wd (deg)        -0.00 1.00"
      ]
     },
     "execution_count": 11,
     "metadata": {},
     "output_type": "execute_result"
    }
   ],
   "source": [
    "train_df.describe().transpose().loc[:, [\"mean\", \"std\"]]"
   ]
  },
  {
   "cell_type": "code",
   "execution_count": null,
   "id": "20d66783",
   "metadata": {},
   "outputs": [],
   "source": []
  },
  {
   "cell_type": "code",
   "execution_count": null,
   "id": "e6bc010b",
   "metadata": {},
   "outputs": [],
   "source": []
  },
  {
   "cell_type": "code",
   "execution_count": 12,
   "id": "0c1bca1b",
   "metadata": {},
   "outputs": [
    {
     "name": "stdout",
     "output_type": "stream",
     "text": [
      "[0 1 2 3 4 5 6]\n",
      "[0 1 2 3 4 5]\n",
      "[6]\n"
     ]
    }
   ],
   "source": [
    "input_width = 6\n",
    "label_width = 1\n",
    "shift = 1\n",
    "\n",
    "total_window_size = input_width + label_width \n",
    "print(np.arange(total_window_size))\n",
    "\n",
    "input_slice = slice(0, input_width)\n",
    "print(np.arange(total_window_size)[input_slice])\n",
    "input_indices = np.arange(total_window_size)[input_slice]\n",
    "\n",
    "\n",
    "#label_slice = slice(0,, label_width)\n",
    "label_start = total_window_size - label_width\n",
    "labels_slice = slice(label_start, None)\n",
    "print(np.arange(total_window_size)[labels_slice])\n",
    "label_indices = np.arange(total_window_size)[labels_slice]"
   ]
  },
  {
   "cell_type": "code",
   "execution_count": null,
   "id": "a7bcdede",
   "metadata": {},
   "outputs": [],
   "source": []
  },
  {
   "cell_type": "code",
   "execution_count": null,
   "id": "35abeb73",
   "metadata": {},
   "outputs": [],
   "source": []
  },
  {
   "cell_type": "code",
   "execution_count": 13,
   "id": "b1cf5f8b",
   "metadata": {},
   "outputs": [
    {
     "data": {
      "text/html": [
       "<div>\n",
       "<style scoped>\n",
       "    .dataframe tbody tr th:only-of-type {\n",
       "        vertical-align: middle;\n",
       "    }\n",
       "\n",
       "    .dataframe tbody tr th {\n",
       "        vertical-align: top;\n",
       "    }\n",
       "\n",
       "    .dataframe thead th {\n",
       "        text-align: right;\n",
       "    }\n",
       "</style>\n",
       "<table border=\"1\" class=\"dataframe\">\n",
       "  <thead>\n",
       "    <tr style=\"text-align: right;\">\n",
       "      <th></th>\n",
       "      <th>p (mbar)</th>\n",
       "      <th>T (degC)</th>\n",
       "      <th>Tpot (K)</th>\n",
       "      <th>Tdew (degC)</th>\n",
       "      <th>rh (%)</th>\n",
       "      <th>VPmax (mbar)</th>\n",
       "      <th>VPact (mbar)</th>\n",
       "      <th>VPdef (mbar)</th>\n",
       "      <th>sh (g/kg)</th>\n",
       "      <th>H2OC (mmol/mol)</th>\n",
       "      <th>rho (g/m**3)</th>\n",
       "      <th>wv (m/s)</th>\n",
       "      <th>max. wv (m/s)</th>\n",
       "      <th>wd (deg)</th>\n",
       "    </tr>\n",
       "    <tr>\n",
       "      <th>Date Time</th>\n",
       "      <th></th>\n",
       "      <th></th>\n",
       "      <th></th>\n",
       "      <th></th>\n",
       "      <th></th>\n",
       "      <th></th>\n",
       "      <th></th>\n",
       "      <th></th>\n",
       "      <th></th>\n",
       "      <th></th>\n",
       "      <th></th>\n",
       "      <th></th>\n",
       "      <th></th>\n",
       "      <th></th>\n",
       "    </tr>\n",
       "  </thead>\n",
       "  <tbody>\n",
       "    <tr>\n",
       "      <th>2009-01-01 01:00:00</th>\n",
       "      <td>0.95</td>\n",
       "      <td>-1.98</td>\n",
       "      <td>-2.04</td>\n",
       "      <td>-1.92</td>\n",
       "      <td>1.12</td>\n",
       "      <td>-1.30</td>\n",
       "      <td>-1.48</td>\n",
       "      <td>-0.79</td>\n",
       "      <td>-1.48</td>\n",
       "      <td>-1.48</td>\n",
       "      <td>2.22</td>\n",
       "      <td>-1.27</td>\n",
       "      <td>-1.26</td>\n",
       "      <td>0.22</td>\n",
       "    </tr>\n",
       "    <tr>\n",
       "      <th>2009-01-01 02:00:00</th>\n",
       "      <td>0.96</td>\n",
       "      <td>-2.08</td>\n",
       "      <td>-2.14</td>\n",
       "      <td>-2.06</td>\n",
       "      <td>1.04</td>\n",
       "      <td>-1.33</td>\n",
       "      <td>-1.53</td>\n",
       "      <td>-0.79</td>\n",
       "      <td>-1.54</td>\n",
       "      <td>-1.54</td>\n",
       "      <td>2.33</td>\n",
       "      <td>-1.24</td>\n",
       "      <td>-1.26</td>\n",
       "      <td>0.19</td>\n",
       "    </tr>\n",
       "    <tr>\n",
       "      <th>2009-01-01 03:00:00</th>\n",
       "      <td>0.99</td>\n",
       "      <td>-2.07</td>\n",
       "      <td>-2.13</td>\n",
       "      <td>-2.05</td>\n",
       "      <td>1.06</td>\n",
       "      <td>-1.33</td>\n",
       "      <td>-1.53</td>\n",
       "      <td>-0.79</td>\n",
       "      <td>-1.53</td>\n",
       "      <td>-1.53</td>\n",
       "      <td>2.32</td>\n",
       "      <td>-1.29</td>\n",
       "      <td>-1.26</td>\n",
       "      <td>-0.07</td>\n",
       "    </tr>\n",
       "    <tr>\n",
       "      <th>2009-01-01 04:00:00</th>\n",
       "      <td>1.00</td>\n",
       "      <td>-2.10</td>\n",
       "      <td>-2.16</td>\n",
       "      <td>-2.10</td>\n",
       "      <td>1.01</td>\n",
       "      <td>-1.34</td>\n",
       "      <td>-1.55</td>\n",
       "      <td>-0.78</td>\n",
       "      <td>-1.55</td>\n",
       "      <td>-1.55</td>\n",
       "      <td>2.36</td>\n",
       "      <td>-1.34</td>\n",
       "      <td>-1.37</td>\n",
       "      <td>0.76</td>\n",
       "    </tr>\n",
       "    <tr>\n",
       "      <th>2009-01-01 05:00:00</th>\n",
       "      <td>1.06</td>\n",
       "      <td>-2.17</td>\n",
       "      <td>-2.23</td>\n",
       "      <td>-2.19</td>\n",
       "      <td>0.98</td>\n",
       "      <td>-1.35</td>\n",
       "      <td>-1.58</td>\n",
       "      <td>-0.78</td>\n",
       "      <td>-1.58</td>\n",
       "      <td>-1.59</td>\n",
       "      <td>2.45</td>\n",
       "      <td>-1.14</td>\n",
       "      <td>-1.16</td>\n",
       "      <td>-0.19</td>\n",
       "    </tr>\n",
       "    <tr>\n",
       "      <th>2009-01-01 06:00:00</th>\n",
       "      <td>1.09</td>\n",
       "      <td>-2.17</td>\n",
       "      <td>-2.24</td>\n",
       "      <td>-2.18</td>\n",
       "      <td>1.01</td>\n",
       "      <td>-1.35</td>\n",
       "      <td>-1.58</td>\n",
       "      <td>-0.79</td>\n",
       "      <td>-1.58</td>\n",
       "      <td>-1.58</td>\n",
       "      <td>2.46</td>\n",
       "      <td>-1.37</td>\n",
       "      <td>-1.32</td>\n",
       "      <td>-0.31</td>\n",
       "    </tr>\n",
       "    <tr>\n",
       "      <th>2009-01-01 07:00:00</th>\n",
       "      <td>1.17</td>\n",
       "      <td>-2.11</td>\n",
       "      <td>-2.19</td>\n",
       "      <td>-2.11</td>\n",
       "      <td>1.03</td>\n",
       "      <td>-1.34</td>\n",
       "      <td>-1.55</td>\n",
       "      <td>-0.78</td>\n",
       "      <td>-1.55</td>\n",
       "      <td>-1.56</td>\n",
       "      <td>2.42</td>\n",
       "      <td>-0.05</td>\n",
       "      <td>-0.29</td>\n",
       "      <td>2.00</td>\n",
       "    </tr>\n",
       "  </tbody>\n",
       "</table>\n",
       "</div>"
      ],
      "text/plain": [
       "                     p (mbar)  T (degC)  Tpot (K)  Tdew (degC)  rh (%)  \\\n",
       "Date Time                                                                \n",
       "2009-01-01 01:00:00      0.95     -1.98     -2.04        -1.92    1.12   \n",
       "2009-01-01 02:00:00      0.96     -2.08     -2.14        -2.06    1.04   \n",
       "2009-01-01 03:00:00      0.99     -2.07     -2.13        -2.05    1.06   \n",
       "2009-01-01 04:00:00      1.00     -2.10     -2.16        -2.10    1.01   \n",
       "2009-01-01 05:00:00      1.06     -2.17     -2.23        -2.19    0.98   \n",
       "2009-01-01 06:00:00      1.09     -2.17     -2.24        -2.18    1.01   \n",
       "2009-01-01 07:00:00      1.17     -2.11     -2.19        -2.11    1.03   \n",
       "\n",
       "                     VPmax (mbar)  VPact (mbar)  VPdef (mbar)  sh (g/kg)  \\\n",
       "Date Time                                                                  \n",
       "2009-01-01 01:00:00         -1.30         -1.48         -0.79      -1.48   \n",
       "2009-01-01 02:00:00         -1.33         -1.53         -0.79      -1.54   \n",
       "2009-01-01 03:00:00         -1.33         -1.53         -0.79      -1.53   \n",
       "2009-01-01 04:00:00         -1.34         -1.55         -0.78      -1.55   \n",
       "2009-01-01 05:00:00         -1.35         -1.58         -0.78      -1.58   \n",
       "2009-01-01 06:00:00         -1.35         -1.58         -0.79      -1.58   \n",
       "2009-01-01 07:00:00         -1.34         -1.55         -0.78      -1.55   \n",
       "\n",
       "                     H2OC (mmol/mol)  rho (g/m**3)  wv (m/s)  max. wv (m/s)  \\\n",
       "Date Time                                                                     \n",
       "2009-01-01 01:00:00            -1.48          2.22     -1.27          -1.26   \n",
       "2009-01-01 02:00:00            -1.54          2.33     -1.24          -1.26   \n",
       "2009-01-01 03:00:00            -1.53          2.32     -1.29          -1.26   \n",
       "2009-01-01 04:00:00            -1.55          2.36     -1.34          -1.37   \n",
       "2009-01-01 05:00:00            -1.59          2.45     -1.14          -1.16   \n",
       "2009-01-01 06:00:00            -1.58          2.46     -1.37          -1.32   \n",
       "2009-01-01 07:00:00            -1.56          2.42     -0.05          -0.29   \n",
       "\n",
       "                     wd (deg)  \n",
       "Date Time                      \n",
       "2009-01-01 01:00:00      0.22  \n",
       "2009-01-01 02:00:00      0.19  \n",
       "2009-01-01 03:00:00     -0.07  \n",
       "2009-01-01 04:00:00      0.76  \n",
       "2009-01-01 05:00:00     -0.19  \n",
       "2009-01-01 06:00:00     -0.31  \n",
       "2009-01-01 07:00:00      2.00  "
      ]
     },
     "execution_count": 13,
     "metadata": {},
     "output_type": "execute_result"
    }
   ],
   "source": [
    "train_df[: total_window_size]"
   ]
  },
  {
   "cell_type": "code",
   "execution_count": 14,
   "id": "0801e467",
   "metadata": {},
   "outputs": [
    {
     "data": {
      "text/html": [
       "<div>\n",
       "<style scoped>\n",
       "    .dataframe tbody tr th:only-of-type {\n",
       "        vertical-align: middle;\n",
       "    }\n",
       "\n",
       "    .dataframe tbody tr th {\n",
       "        vertical-align: top;\n",
       "    }\n",
       "\n",
       "    .dataframe thead th {\n",
       "        text-align: right;\n",
       "    }\n",
       "</style>\n",
       "<table border=\"1\" class=\"dataframe\">\n",
       "  <thead>\n",
       "    <tr style=\"text-align: right;\">\n",
       "      <th></th>\n",
       "      <th>p (mbar)</th>\n",
       "      <th>T (degC)</th>\n",
       "      <th>Tpot (K)</th>\n",
       "      <th>Tdew (degC)</th>\n",
       "      <th>rh (%)</th>\n",
       "      <th>VPmax (mbar)</th>\n",
       "      <th>VPact (mbar)</th>\n",
       "      <th>VPdef (mbar)</th>\n",
       "      <th>sh (g/kg)</th>\n",
       "      <th>H2OC (mmol/mol)</th>\n",
       "      <th>rho (g/m**3)</th>\n",
       "      <th>wv (m/s)</th>\n",
       "      <th>max. wv (m/s)</th>\n",
       "      <th>wd (deg)</th>\n",
       "    </tr>\n",
       "    <tr>\n",
       "      <th>Date Time</th>\n",
       "      <th></th>\n",
       "      <th></th>\n",
       "      <th></th>\n",
       "      <th></th>\n",
       "      <th></th>\n",
       "      <th></th>\n",
       "      <th></th>\n",
       "      <th></th>\n",
       "      <th></th>\n",
       "      <th></th>\n",
       "      <th></th>\n",
       "      <th></th>\n",
       "      <th></th>\n",
       "      <th></th>\n",
       "    </tr>\n",
       "  </thead>\n",
       "  <tbody>\n",
       "    <tr>\n",
       "      <th>2009-01-05 05:00:00</th>\n",
       "      <td>-0.37</td>\n",
       "      <td>-1.26</td>\n",
       "      <td>-1.22</td>\n",
       "      <td>-1.15</td>\n",
       "      <td>0.74</td>\n",
       "      <td>-1.04</td>\n",
       "      <td>-1.10</td>\n",
       "      <td>-0.70</td>\n",
       "      <td>-1.09</td>\n",
       "      <td>-1.10</td>\n",
       "      <td>1.12</td>\n",
       "      <td>0.78</td>\n",
       "      <td>0.84</td>\n",
       "      <td>0.98</td>\n",
       "    </tr>\n",
       "    <tr>\n",
       "      <th>2009-01-05 06:00:00</th>\n",
       "      <td>-0.32</td>\n",
       "      <td>-1.26</td>\n",
       "      <td>-1.23</td>\n",
       "      <td>-1.16</td>\n",
       "      <td>0.72</td>\n",
       "      <td>-1.04</td>\n",
       "      <td>-1.10</td>\n",
       "      <td>-0.69</td>\n",
       "      <td>-1.10</td>\n",
       "      <td>-1.10</td>\n",
       "      <td>1.13</td>\n",
       "      <td>-0.20</td>\n",
       "      <td>0.03</td>\n",
       "      <td>1.06</td>\n",
       "    </tr>\n",
       "    <tr>\n",
       "      <th>2009-01-05 07:00:00</th>\n",
       "      <td>-0.22</td>\n",
       "      <td>-1.29</td>\n",
       "      <td>-1.27</td>\n",
       "      <td>-1.21</td>\n",
       "      <td>0.72</td>\n",
       "      <td>-1.05</td>\n",
       "      <td>-1.13</td>\n",
       "      <td>-0.70</td>\n",
       "      <td>-1.12</td>\n",
       "      <td>-1.13</td>\n",
       "      <td>1.19</td>\n",
       "      <td>-0.57</td>\n",
       "      <td>-0.29</td>\n",
       "      <td>2.09</td>\n",
       "    </tr>\n",
       "    <tr>\n",
       "      <th>2009-01-05 08:00:00</th>\n",
       "      <td>-0.12</td>\n",
       "      <td>-1.37</td>\n",
       "      <td>-1.35</td>\n",
       "      <td>-1.29</td>\n",
       "      <td>0.75</td>\n",
       "      <td>-1.09</td>\n",
       "      <td>-1.18</td>\n",
       "      <td>-0.71</td>\n",
       "      <td>-1.17</td>\n",
       "      <td>-1.17</td>\n",
       "      <td>1.30</td>\n",
       "      <td>-0.37</td>\n",
       "      <td>-0.03</td>\n",
       "      <td>-1.98</td>\n",
       "    </tr>\n",
       "    <tr>\n",
       "      <th>2009-01-05 09:00:00</th>\n",
       "      <td>-0.03</td>\n",
       "      <td>-1.41</td>\n",
       "      <td>-1.40</td>\n",
       "      <td>-1.28</td>\n",
       "      <td>0.92</td>\n",
       "      <td>-1.11</td>\n",
       "      <td>-1.17</td>\n",
       "      <td>-0.74</td>\n",
       "      <td>-1.17</td>\n",
       "      <td>-1.17</td>\n",
       "      <td>1.36</td>\n",
       "      <td>-0.35</td>\n",
       "      <td>0.46</td>\n",
       "      <td>0.16</td>\n",
       "    </tr>\n",
       "    <tr>\n",
       "      <th>2009-01-05 10:00:00</th>\n",
       "      <td>0.07</td>\n",
       "      <td>-1.43</td>\n",
       "      <td>-1.43</td>\n",
       "      <td>-1.31</td>\n",
       "      <td>0.91</td>\n",
       "      <td>-1.11</td>\n",
       "      <td>-1.19</td>\n",
       "      <td>-0.74</td>\n",
       "      <td>-1.19</td>\n",
       "      <td>-1.19</td>\n",
       "      <td>1.41</td>\n",
       "      <td>0.24</td>\n",
       "      <td>0.46</td>\n",
       "      <td>-1.90</td>\n",
       "    </tr>\n",
       "    <tr>\n",
       "      <th>2009-01-05 11:00:00</th>\n",
       "      <td>0.16</td>\n",
       "      <td>-1.46</td>\n",
       "      <td>-1.47</td>\n",
       "      <td>-1.39</td>\n",
       "      <td>0.77</td>\n",
       "      <td>-1.12</td>\n",
       "      <td>-1.23</td>\n",
       "      <td>-0.72</td>\n",
       "      <td>-1.23</td>\n",
       "      <td>-1.23</td>\n",
       "      <td>1.46</td>\n",
       "      <td>1.89</td>\n",
       "      <td>1.86</td>\n",
       "      <td>-1.82</td>\n",
       "    </tr>\n",
       "  </tbody>\n",
       "</table>\n",
       "</div>"
      ],
      "text/plain": [
       "                     p (mbar)  T (degC)  Tpot (K)  Tdew (degC)  rh (%)  \\\n",
       "Date Time                                                                \n",
       "2009-01-05 05:00:00     -0.37     -1.26     -1.22        -1.15    0.74   \n",
       "2009-01-05 06:00:00     -0.32     -1.26     -1.23        -1.16    0.72   \n",
       "2009-01-05 07:00:00     -0.22     -1.29     -1.27        -1.21    0.72   \n",
       "2009-01-05 08:00:00     -0.12     -1.37     -1.35        -1.29    0.75   \n",
       "2009-01-05 09:00:00     -0.03     -1.41     -1.40        -1.28    0.92   \n",
       "2009-01-05 10:00:00      0.07     -1.43     -1.43        -1.31    0.91   \n",
       "2009-01-05 11:00:00      0.16     -1.46     -1.47        -1.39    0.77   \n",
       "\n",
       "                     VPmax (mbar)  VPact (mbar)  VPdef (mbar)  sh (g/kg)  \\\n",
       "Date Time                                                                  \n",
       "2009-01-05 05:00:00         -1.04         -1.10         -0.70      -1.09   \n",
       "2009-01-05 06:00:00         -1.04         -1.10         -0.69      -1.10   \n",
       "2009-01-05 07:00:00         -1.05         -1.13         -0.70      -1.12   \n",
       "2009-01-05 08:00:00         -1.09         -1.18         -0.71      -1.17   \n",
       "2009-01-05 09:00:00         -1.11         -1.17         -0.74      -1.17   \n",
       "2009-01-05 10:00:00         -1.11         -1.19         -0.74      -1.19   \n",
       "2009-01-05 11:00:00         -1.12         -1.23         -0.72      -1.23   \n",
       "\n",
       "                     H2OC (mmol/mol)  rho (g/m**3)  wv (m/s)  max. wv (m/s)  \\\n",
       "Date Time                                                                     \n",
       "2009-01-05 05:00:00            -1.10          1.12      0.78           0.84   \n",
       "2009-01-05 06:00:00            -1.10          1.13     -0.20           0.03   \n",
       "2009-01-05 07:00:00            -1.13          1.19     -0.57          -0.29   \n",
       "2009-01-05 08:00:00            -1.17          1.30     -0.37          -0.03   \n",
       "2009-01-05 09:00:00            -1.17          1.36     -0.35           0.46   \n",
       "2009-01-05 10:00:00            -1.19          1.41      0.24           0.46   \n",
       "2009-01-05 11:00:00            -1.23          1.46      1.89           1.86   \n",
       "\n",
       "                     wd (deg)  \n",
       "Date Time                      \n",
       "2009-01-05 05:00:00      0.98  \n",
       "2009-01-05 06:00:00      1.06  \n",
       "2009-01-05 07:00:00      2.09  \n",
       "2009-01-05 08:00:00     -1.98  \n",
       "2009-01-05 09:00:00      0.16  \n",
       "2009-01-05 10:00:00     -1.90  \n",
       "2009-01-05 11:00:00     -1.82  "
      ]
     },
     "execution_count": 14,
     "metadata": {},
     "output_type": "execute_result"
    }
   ],
   "source": [
    "train_df[100: 100+total_window_size]"
   ]
  },
  {
   "cell_type": "code",
   "execution_count": 15,
   "id": "4d49337c",
   "metadata": {},
   "outputs": [
    {
     "data": {
      "text/html": [
       "<div>\n",
       "<style scoped>\n",
       "    .dataframe tbody tr th:only-of-type {\n",
       "        vertical-align: middle;\n",
       "    }\n",
       "\n",
       "    .dataframe tbody tr th {\n",
       "        vertical-align: top;\n",
       "    }\n",
       "\n",
       "    .dataframe thead th {\n",
       "        text-align: right;\n",
       "    }\n",
       "</style>\n",
       "<table border=\"1\" class=\"dataframe\">\n",
       "  <thead>\n",
       "    <tr style=\"text-align: right;\">\n",
       "      <th></th>\n",
       "      <th>p (mbar)</th>\n",
       "      <th>T (degC)</th>\n",
       "      <th>Tpot (K)</th>\n",
       "      <th>Tdew (degC)</th>\n",
       "      <th>rh (%)</th>\n",
       "      <th>VPmax (mbar)</th>\n",
       "      <th>VPact (mbar)</th>\n",
       "      <th>VPdef (mbar)</th>\n",
       "      <th>sh (g/kg)</th>\n",
       "      <th>H2OC (mmol/mol)</th>\n",
       "      <th>rho (g/m**3)</th>\n",
       "      <th>wv (m/s)</th>\n",
       "      <th>max. wv (m/s)</th>\n",
       "      <th>wd (deg)</th>\n",
       "    </tr>\n",
       "    <tr>\n",
       "      <th>Date Time</th>\n",
       "      <th></th>\n",
       "      <th></th>\n",
       "      <th></th>\n",
       "      <th></th>\n",
       "      <th></th>\n",
       "      <th></th>\n",
       "      <th></th>\n",
       "      <th></th>\n",
       "      <th></th>\n",
       "      <th></th>\n",
       "      <th></th>\n",
       "      <th></th>\n",
       "      <th></th>\n",
       "      <th></th>\n",
       "    </tr>\n",
       "  </thead>\n",
       "  <tbody>\n",
       "    <tr>\n",
       "      <th>2009-01-09 09:00:00</th>\n",
       "      <td>1.77</td>\n",
       "      <td>-2.92</td>\n",
       "      <td>-3.03</td>\n",
       "      <td>-3.22</td>\n",
       "      <td>0.66</td>\n",
       "      <td>-1.51</td>\n",
       "      <td>-1.87</td>\n",
       "      <td>-0.78</td>\n",
       "      <td>-1.87</td>\n",
       "      <td>-1.87</td>\n",
       "      <td>3.48</td>\n",
       "      <td>-0.72</td>\n",
       "      <td>-0.46</td>\n",
       "      <td>-0.27</td>\n",
       "    </tr>\n",
       "    <tr>\n",
       "      <th>2009-01-09 10:00:00</th>\n",
       "      <td>1.83</td>\n",
       "      <td>-2.81</td>\n",
       "      <td>-2.93</td>\n",
       "      <td>-3.08</td>\n",
       "      <td>0.68</td>\n",
       "      <td>-1.49</td>\n",
       "      <td>-1.84</td>\n",
       "      <td>-0.78</td>\n",
       "      <td>-1.84</td>\n",
       "      <td>-1.84</td>\n",
       "      <td>3.37</td>\n",
       "      <td>-0.82</td>\n",
       "      <td>-0.78</td>\n",
       "      <td>-0.34</td>\n",
       "    </tr>\n",
       "    <tr>\n",
       "      <th>2009-01-09 11:00:00</th>\n",
       "      <td>1.83</td>\n",
       "      <td>-2.54</td>\n",
       "      <td>-2.66</td>\n",
       "      <td>-2.79</td>\n",
       "      <td>0.55</td>\n",
       "      <td>-1.44</td>\n",
       "      <td>-1.77</td>\n",
       "      <td>-0.76</td>\n",
       "      <td>-1.77</td>\n",
       "      <td>-1.77</td>\n",
       "      <td>3.07</td>\n",
       "      <td>-0.86</td>\n",
       "      <td>-1.00</td>\n",
       "      <td>0.42</td>\n",
       "    </tr>\n",
       "    <tr>\n",
       "      <th>2009-01-09 12:00:00</th>\n",
       "      <td>1.76</td>\n",
       "      <td>-2.26</td>\n",
       "      <td>-2.38</td>\n",
       "      <td>-2.56</td>\n",
       "      <td>0.24</td>\n",
       "      <td>-1.38</td>\n",
       "      <td>-1.70</td>\n",
       "      <td>-0.72</td>\n",
       "      <td>-1.70</td>\n",
       "      <td>-1.71</td>\n",
       "      <td>2.74</td>\n",
       "      <td>-0.81</td>\n",
       "      <td>-0.67</td>\n",
       "      <td>-0.20</td>\n",
       "    </tr>\n",
       "    <tr>\n",
       "      <th>2009-01-09 13:00:00</th>\n",
       "      <td>1.70</td>\n",
       "      <td>-1.80</td>\n",
       "      <td>-1.91</td>\n",
       "      <td>-2.31</td>\n",
       "      <td>-0.55</td>\n",
       "      <td>-1.25</td>\n",
       "      <td>-1.62</td>\n",
       "      <td>-0.57</td>\n",
       "      <td>-1.63</td>\n",
       "      <td>-1.63</td>\n",
       "      <td>2.23</td>\n",
       "      <td>-0.96</td>\n",
       "      <td>-0.83</td>\n",
       "      <td>0.45</td>\n",
       "    </tr>\n",
       "    <tr>\n",
       "      <th>2009-01-09 14:00:00</th>\n",
       "      <td>1.63</td>\n",
       "      <td>-1.62</td>\n",
       "      <td>-1.73</td>\n",
       "      <td>-2.28</td>\n",
       "      <td>-0.91</td>\n",
       "      <td>-1.18</td>\n",
       "      <td>-1.61</td>\n",
       "      <td>-0.49</td>\n",
       "      <td>-1.61</td>\n",
       "      <td>-1.62</td>\n",
       "      <td>2.03</td>\n",
       "      <td>-0.73</td>\n",
       "      <td>-0.67</td>\n",
       "      <td>0.33</td>\n",
       "    </tr>\n",
       "    <tr>\n",
       "      <th>2009-01-09 15:00:00</th>\n",
       "      <td>1.62</td>\n",
       "      <td>-1.48</td>\n",
       "      <td>-1.59</td>\n",
       "      <td>-2.13</td>\n",
       "      <td>-0.96</td>\n",
       "      <td>-1.13</td>\n",
       "      <td>-1.56</td>\n",
       "      <td>-0.44</td>\n",
       "      <td>-1.57</td>\n",
       "      <td>-1.57</td>\n",
       "      <td>1.88</td>\n",
       "      <td>-0.72</td>\n",
       "      <td>-0.83</td>\n",
       "      <td>0.38</td>\n",
       "    </tr>\n",
       "  </tbody>\n",
       "</table>\n",
       "</div>"
      ],
      "text/plain": [
       "                     p (mbar)  T (degC)  Tpot (K)  Tdew (degC)  rh (%)  \\\n",
       "Date Time                                                                \n",
       "2009-01-09 09:00:00      1.77     -2.92     -3.03        -3.22    0.66   \n",
       "2009-01-09 10:00:00      1.83     -2.81     -2.93        -3.08    0.68   \n",
       "2009-01-09 11:00:00      1.83     -2.54     -2.66        -2.79    0.55   \n",
       "2009-01-09 12:00:00      1.76     -2.26     -2.38        -2.56    0.24   \n",
       "2009-01-09 13:00:00      1.70     -1.80     -1.91        -2.31   -0.55   \n",
       "2009-01-09 14:00:00      1.63     -1.62     -1.73        -2.28   -0.91   \n",
       "2009-01-09 15:00:00      1.62     -1.48     -1.59        -2.13   -0.96   \n",
       "\n",
       "                     VPmax (mbar)  VPact (mbar)  VPdef (mbar)  sh (g/kg)  \\\n",
       "Date Time                                                                  \n",
       "2009-01-09 09:00:00         -1.51         -1.87         -0.78      -1.87   \n",
       "2009-01-09 10:00:00         -1.49         -1.84         -0.78      -1.84   \n",
       "2009-01-09 11:00:00         -1.44         -1.77         -0.76      -1.77   \n",
       "2009-01-09 12:00:00         -1.38         -1.70         -0.72      -1.70   \n",
       "2009-01-09 13:00:00         -1.25         -1.62         -0.57      -1.63   \n",
       "2009-01-09 14:00:00         -1.18         -1.61         -0.49      -1.61   \n",
       "2009-01-09 15:00:00         -1.13         -1.56         -0.44      -1.57   \n",
       "\n",
       "                     H2OC (mmol/mol)  rho (g/m**3)  wv (m/s)  max. wv (m/s)  \\\n",
       "Date Time                                                                     \n",
       "2009-01-09 09:00:00            -1.87          3.48     -0.72          -0.46   \n",
       "2009-01-09 10:00:00            -1.84          3.37     -0.82          -0.78   \n",
       "2009-01-09 11:00:00            -1.77          3.07     -0.86          -1.00   \n",
       "2009-01-09 12:00:00            -1.71          2.74     -0.81          -0.67   \n",
       "2009-01-09 13:00:00            -1.63          2.23     -0.96          -0.83   \n",
       "2009-01-09 14:00:00            -1.62          2.03     -0.73          -0.67   \n",
       "2009-01-09 15:00:00            -1.57          1.88     -0.72          -0.83   \n",
       "\n",
       "                     wd (deg)  \n",
       "Date Time                      \n",
       "2009-01-09 09:00:00     -0.27  \n",
       "2009-01-09 10:00:00     -0.34  \n",
       "2009-01-09 11:00:00      0.42  \n",
       "2009-01-09 12:00:00     -0.20  \n",
       "2009-01-09 13:00:00      0.45  \n",
       "2009-01-09 14:00:00      0.33  \n",
       "2009-01-09 15:00:00      0.38  "
      ]
     },
     "execution_count": 15,
     "metadata": {},
     "output_type": "execute_result"
    }
   ],
   "source": [
    "train_df[200: 200+total_window_size]"
   ]
  },
  {
   "cell_type": "code",
   "execution_count": 16,
   "id": "4cb325c6",
   "metadata": {},
   "outputs": [],
   "source": [
    "example_window = tf.stack([np.array(train_df[: total_window_size]),\n",
    "        np.array(train_df[100: 100+total_window_size]),\n",
    "        np.array(train_df[200: 200+total_window_size])])"
   ]
  },
  {
   "cell_type": "code",
   "execution_count": 17,
   "id": "8337486e",
   "metadata": {},
   "outputs": [
    {
     "name": "stdout",
     "output_type": "stream",
     "text": [
      "(3, 7, 14)\n"
     ]
    },
    {
     "data": {
      "text/plain": [
       "<tf.Tensor: shape=(3, 7, 14), dtype=float64, numpy=\n",
       "array([[[ 0.9453076 , -1.98247323, -2.04188844, -1.91897277,\n",
       "          1.11710152, -1.30285119, -1.47732321, -0.79042362,\n",
       "         -1.48003637, -1.48269721,  2.21852381, -1.26685324,\n",
       "         -1.26387137,  0.22183081],\n",
       "        [ 0.95976985, -2.07837211, -2.13816632, -2.06096373,\n",
       "          1.04461734, -1.33014257, -1.53435391, -0.7862723 ,\n",
       "         -1.53618981, -1.53903452,  2.32570755, -1.2407903 ,\n",
       "         -1.26387137,  0.1944336 ],\n",
       "        [ 0.98628397, -2.07028426, -2.13243549, -2.04518696,\n",
       "          1.06273839, -1.32884298, -1.52722507, -0.78834796,\n",
       "         -1.52870268, -1.53199235,  2.32399847, -1.28640045,\n",
       "         -1.26387137, -0.0692646 ],\n",
       "        [ 1.00436178, -2.09801405, -2.16108962, -2.09682003,\n",
       "          1.00837525, -1.33664052, -1.54623531, -0.78212097,\n",
       "         -1.5474205 , -1.55311884,  2.35891254, -1.33852634,\n",
       "         -1.37162996,  0.76178426],\n",
       "        [ 1.06100558, -2.16502773, -2.23215187, -2.18717792,\n",
       "          0.98421386, -1.35353518, -1.57950322, -0.78212097,\n",
       "         -1.58111256, -1.58598227,  2.44631978, -1.14305426,\n",
       "         -1.15611278, -0.18570277],\n",
       "        [ 1.09113526, -2.16964936, -2.23902886, -2.18287516,\n",
       "          1.0144156 , -1.35483477, -1.57950322, -0.7862723 ,\n",
       "         -1.58111256, -1.58363488,  2.4590158 , -1.37110502,\n",
       "         -1.31990584, -0.31127333],\n",
       "        [ 1.16585687, -2.11187895, -2.18630526, -2.10829405,\n",
       "          1.0264963 , -1.34053929, -1.55098787, -0.78419664,\n",
       "         -1.55490762, -1.55781362,  2.41677711, -0.04841058,\n",
       "         -0.29404409,  2.00379135]],\n",
       "\n",
       "       [[-0.37196209, -1.25687689, -1.22238033, -1.15451638,\n",
       "          0.74259992, -1.03903453, -1.09949481, -0.6990945 ,\n",
       "         -1.09444941, -1.09537822,  1.11787619,  0.77908791,\n",
       "          0.8352659 ,  0.98438663],\n",
       "        [-0.3237546 , -1.25572149, -1.22581883, -1.15881913,\n",
       "          0.72447888, -1.03773494, -1.10187109, -0.69494318,\n",
       "         -1.09819297, -1.09772561,  1.12935144, -0.20478825,\n",
       "          0.02923167,  1.06201208],\n",
       "        [-0.22492924, -1.29269455, -1.2693731 , -1.20758371,\n",
       "          0.71843853, -1.0546296 , -1.13038644, -0.69701884,\n",
       "         -1.12439791, -1.12824165,  1.19307572, -0.56966947,\n",
       "         -0.29404409,  2.0905492 ],\n",
       "        [-0.11887276, -1.36664067, -1.351897  , -1.28646757,\n",
       "          0.74864027, -1.08581975, -1.17553575, -0.70947281,\n",
       "         -1.17306422, -1.17284202,  1.29635299, -0.36768165,\n",
       "         -0.02680279, -1.9765674 ],\n",
       "        [-0.02848372, -1.41170159, -1.40347443, -1.28359907,\n",
       "          0.91777003, -1.10531359, -1.17315947, -0.74060774,\n",
       "         -1.16932066, -1.17284202,  1.36471619, -0.35465018,\n",
       "          0.46026602,  0.16475328],\n",
       "        [ 0.06913645, -1.43249894, -1.4309824 , -1.31228411,\n",
       "          0.90568933, -1.11311113, -1.18979342, -0.73853208,\n",
       "         -1.18803847, -1.18927374,  1.41183798,  0.24479755,\n",
       "          0.46026602, -1.90042597],\n",
       "        [ 0.15832031, -1.46022873, -1.46536735, -1.39260223,\n",
       "          0.77280166, -1.12480743, -1.23256645, -0.71985112,\n",
       "         -1.22921766, -1.2338741 ,  1.46481946,  1.8932788 ,\n",
       "          1.86112765, -1.8210882 ]],\n",
       "\n",
       "       [[ 1.76724532, -2.92182009, -3.03217517, -3.21983946,\n",
       "          0.65803505, -1.51208509, -1.86940929, -0.78212097,\n",
       "         -1.86562333, -1.87236358,  3.47518604, -0.71953141,\n",
       "         -0.45783714, -0.27017751],\n",
       "        [ 1.83112024, -2.81205631, -2.92787414, -3.0778485 ,\n",
       "          0.68219644, -1.49389084, -1.83851766, -0.78004531,\n",
       "         -1.83567483, -1.84184754,  3.36897891, -0.81726745,\n",
       "         -0.7811129 , -0.3420952 ],\n",
       "        [ 1.83353062, -2.5416908 , -2.66081765, -2.79099807,\n",
       "          0.54930877, -1.44190726, -1.76722928, -0.75928869,\n",
       "         -1.7682907 , -1.77377329,  3.0681808 , -0.85636186,\n",
       "         -0.99663008,  0.42274372],\n",
       "        [ 1.76121938, -2.26208201, -2.37771484, -2.55864922,\n",
       "          0.24125101, -1.37822738, -1.70306974, -0.7156998 ,\n",
       "         -1.70465013, -1.70804644,  2.74345557, -0.81075171,\n",
       "         -0.67335432, -0.20168447],\n",
       "        [ 1.70337039, -1.79529711, -1.91122561, -2.31482636,\n",
       "         -0.54882656, -1.24566925, -1.62465252, -0.57040347,\n",
       "         -1.62977888, -1.63293003,  2.23244061, -0.96061364,\n",
       "         -0.83283702,  0.45128249],\n",
       "        [ 1.62985397, -1.61967506, -1.73127768, -2.27610155,\n",
       "         -0.9136636 , -1.18458855, -1.61039485, -0.48530134,\n",
       "         -1.61480463, -1.6188457 ,  2.03125746, -0.73256288,\n",
       "         -0.67335432,  0.32913657],\n",
       "        [ 1.62262285, -1.47871527, -1.59144552, -2.13411059,\n",
       "         -0.96198639, -1.13130538, -1.56049298, -0.4437881 ,\n",
       "         -1.56613831, -1.56955056,  1.88305579, -0.71953141,\n",
       "         -0.83283702,  0.37594015]]])>"
      ]
     },
     "execution_count": 17,
     "metadata": {},
     "output_type": "execute_result"
    }
   ],
   "source": [
    "# (14, ) 7개(total_window_size)씩 3개\n",
    "print(example_window.shape) # number of windows, total window size, number of features\n",
    "example_window"
   ]
  },
  {
   "cell_type": "code",
   "execution_count": null,
   "id": "739a090a",
   "metadata": {},
   "outputs": [],
   "source": []
  },
  {
   "cell_type": "code",
   "execution_count": null,
   "id": "89838e99",
   "metadata": {},
   "outputs": [],
   "source": []
  },
  {
   "cell_type": "code",
   "execution_count": 18,
   "id": "dda59fae",
   "metadata": {},
   "outputs": [
    {
     "data": {
      "text/plain": [
       "slice(0, 6, None)"
      ]
     },
     "execution_count": 18,
     "metadata": {},
     "output_type": "execute_result"
    }
   ],
   "source": [
    "input_slice"
   ]
  },
  {
   "cell_type": "code",
   "execution_count": 19,
   "id": "0b29684d",
   "metadata": {},
   "outputs": [
    {
     "data": {
      "text/plain": [
       "TensorShape([3, 6, 14])"
      ]
     },
     "execution_count": 19,
     "metadata": {},
     "output_type": "execute_result"
    }
   ],
   "source": [
    "inputs = example_window[:, input_slice, :]\n",
    "inputs.shape"
   ]
  },
  {
   "cell_type": "code",
   "execution_count": 20,
   "id": "ac6b792c",
   "metadata": {},
   "outputs": [
    {
     "data": {
      "text/plain": [
       "<tf.Tensor: shape=(3, 6, 14), dtype=float64, numpy=\n",
       "array([[[ 0.9453076 , -1.98247323, -2.04188844, -1.91897277,\n",
       "          1.11710152, -1.30285119, -1.47732321, -0.79042362,\n",
       "         -1.48003637, -1.48269721,  2.21852381, -1.26685324,\n",
       "         -1.26387137,  0.22183081],\n",
       "        [ 0.95976985, -2.07837211, -2.13816632, -2.06096373,\n",
       "          1.04461734, -1.33014257, -1.53435391, -0.7862723 ,\n",
       "         -1.53618981, -1.53903452,  2.32570755, -1.2407903 ,\n",
       "         -1.26387137,  0.1944336 ],\n",
       "        [ 0.98628397, -2.07028426, -2.13243549, -2.04518696,\n",
       "          1.06273839, -1.32884298, -1.52722507, -0.78834796,\n",
       "         -1.52870268, -1.53199235,  2.32399847, -1.28640045,\n",
       "         -1.26387137, -0.0692646 ],\n",
       "        [ 1.00436178, -2.09801405, -2.16108962, -2.09682003,\n",
       "          1.00837525, -1.33664052, -1.54623531, -0.78212097,\n",
       "         -1.5474205 , -1.55311884,  2.35891254, -1.33852634,\n",
       "         -1.37162996,  0.76178426],\n",
       "        [ 1.06100558, -2.16502773, -2.23215187, -2.18717792,\n",
       "          0.98421386, -1.35353518, -1.57950322, -0.78212097,\n",
       "         -1.58111256, -1.58598227,  2.44631978, -1.14305426,\n",
       "         -1.15611278, -0.18570277],\n",
       "        [ 1.09113526, -2.16964936, -2.23902886, -2.18287516,\n",
       "          1.0144156 , -1.35483477, -1.57950322, -0.7862723 ,\n",
       "         -1.58111256, -1.58363488,  2.4590158 , -1.37110502,\n",
       "         -1.31990584, -0.31127333]],\n",
       "\n",
       "       [[-0.37196209, -1.25687689, -1.22238033, -1.15451638,\n",
       "          0.74259992, -1.03903453, -1.09949481, -0.6990945 ,\n",
       "         -1.09444941, -1.09537822,  1.11787619,  0.77908791,\n",
       "          0.8352659 ,  0.98438663],\n",
       "        [-0.3237546 , -1.25572149, -1.22581883, -1.15881913,\n",
       "          0.72447888, -1.03773494, -1.10187109, -0.69494318,\n",
       "         -1.09819297, -1.09772561,  1.12935144, -0.20478825,\n",
       "          0.02923167,  1.06201208],\n",
       "        [-0.22492924, -1.29269455, -1.2693731 , -1.20758371,\n",
       "          0.71843853, -1.0546296 , -1.13038644, -0.69701884,\n",
       "         -1.12439791, -1.12824165,  1.19307572, -0.56966947,\n",
       "         -0.29404409,  2.0905492 ],\n",
       "        [-0.11887276, -1.36664067, -1.351897  , -1.28646757,\n",
       "          0.74864027, -1.08581975, -1.17553575, -0.70947281,\n",
       "         -1.17306422, -1.17284202,  1.29635299, -0.36768165,\n",
       "         -0.02680279, -1.9765674 ],\n",
       "        [-0.02848372, -1.41170159, -1.40347443, -1.28359907,\n",
       "          0.91777003, -1.10531359, -1.17315947, -0.74060774,\n",
       "         -1.16932066, -1.17284202,  1.36471619, -0.35465018,\n",
       "          0.46026602,  0.16475328],\n",
       "        [ 0.06913645, -1.43249894, -1.4309824 , -1.31228411,\n",
       "          0.90568933, -1.11311113, -1.18979342, -0.73853208,\n",
       "         -1.18803847, -1.18927374,  1.41183798,  0.24479755,\n",
       "          0.46026602, -1.90042597]],\n",
       "\n",
       "       [[ 1.76724532, -2.92182009, -3.03217517, -3.21983946,\n",
       "          0.65803505, -1.51208509, -1.86940929, -0.78212097,\n",
       "         -1.86562333, -1.87236358,  3.47518604, -0.71953141,\n",
       "         -0.45783714, -0.27017751],\n",
       "        [ 1.83112024, -2.81205631, -2.92787414, -3.0778485 ,\n",
       "          0.68219644, -1.49389084, -1.83851766, -0.78004531,\n",
       "         -1.83567483, -1.84184754,  3.36897891, -0.81726745,\n",
       "         -0.7811129 , -0.3420952 ],\n",
       "        [ 1.83353062, -2.5416908 , -2.66081765, -2.79099807,\n",
       "          0.54930877, -1.44190726, -1.76722928, -0.75928869,\n",
       "         -1.7682907 , -1.77377329,  3.0681808 , -0.85636186,\n",
       "         -0.99663008,  0.42274372],\n",
       "        [ 1.76121938, -2.26208201, -2.37771484, -2.55864922,\n",
       "          0.24125101, -1.37822738, -1.70306974, -0.7156998 ,\n",
       "         -1.70465013, -1.70804644,  2.74345557, -0.81075171,\n",
       "         -0.67335432, -0.20168447],\n",
       "        [ 1.70337039, -1.79529711, -1.91122561, -2.31482636,\n",
       "         -0.54882656, -1.24566925, -1.62465252, -0.57040347,\n",
       "         -1.62977888, -1.63293003,  2.23244061, -0.96061364,\n",
       "         -0.83283702,  0.45128249],\n",
       "        [ 1.62985397, -1.61967506, -1.73127768, -2.27610155,\n",
       "         -0.9136636 , -1.18458855, -1.61039485, -0.48530134,\n",
       "         -1.61480463, -1.6188457 ,  2.03125746, -0.73256288,\n",
       "         -0.67335432,  0.32913657]]])>"
      ]
     },
     "execution_count": 20,
     "metadata": {},
     "output_type": "execute_result"
    }
   ],
   "source": [
    "# (14, ) 6개씩 3개\n",
    "inputs"
   ]
  },
  {
   "cell_type": "code",
   "execution_count": null,
   "id": "b54d7fe2",
   "metadata": {},
   "outputs": [],
   "source": []
  },
  {
   "cell_type": "code",
   "execution_count": null,
   "id": "ae90cbcb",
   "metadata": {},
   "outputs": [],
   "source": []
  },
  {
   "cell_type": "code",
   "execution_count": 21,
   "id": "f4c94d5b",
   "metadata": {},
   "outputs": [
    {
     "data": {
      "text/plain": [
       "TensorShape([3, 1, 14])"
      ]
     },
     "execution_count": 21,
     "metadata": {},
     "output_type": "execute_result"
    }
   ],
   "source": [
    "labels = example_window[:, labels_slice, :]\n",
    "labels.shape"
   ]
  },
  {
   "cell_type": "code",
   "execution_count": null,
   "id": "1e308c4b",
   "metadata": {},
   "outputs": [],
   "source": []
  },
  {
   "cell_type": "code",
   "execution_count": null,
   "id": "551ff8e0",
   "metadata": {},
   "outputs": [],
   "source": []
  },
  {
   "cell_type": "code",
   "execution_count": 22,
   "id": "bf7b3739",
   "metadata": {},
   "outputs": [],
   "source": [
    "column_indices = {name:i for i, name in enumerate(train_df.columns)}"
   ]
  },
  {
   "cell_type": "code",
   "execution_count": 23,
   "id": "cc3a9c4c",
   "metadata": {},
   "outputs": [
    {
     "data": {
      "text/plain": [
       "{'p (mbar)': 0,\n",
       " 'T (degC)': 1,\n",
       " 'Tpot (K)': 2,\n",
       " 'Tdew (degC)': 3,\n",
       " 'rh (%)': 4,\n",
       " 'VPmax (mbar)': 5,\n",
       " 'VPact (mbar)': 6,\n",
       " 'VPdef (mbar)': 7,\n",
       " 'sh (g/kg)': 8,\n",
       " 'H2OC (mmol/mol)': 9,\n",
       " 'rho (g/m**3)': 10,\n",
       " 'wv (m/s)': 11,\n",
       " 'max. wv (m/s)': 12,\n",
       " 'wd (deg)': 13}"
      ]
     },
     "execution_count": 23,
     "metadata": {},
     "output_type": "execute_result"
    }
   ],
   "source": [
    "column_indices"
   ]
  },
  {
   "cell_type": "code",
   "execution_count": 24,
   "id": "4523342d",
   "metadata": {},
   "outputs": [
    {
     "data": {
      "text/plain": [
       "1"
      ]
     },
     "execution_count": 24,
     "metadata": {},
     "output_type": "execute_result"
    }
   ],
   "source": [
    "# 변수명이 indices인 이유\n",
    "column_indices[\"T (degC)\"]"
   ]
  },
  {
   "cell_type": "code",
   "execution_count": null,
   "id": "f008a463",
   "metadata": {},
   "outputs": [],
   "source": []
  },
  {
   "cell_type": "code",
   "execution_count": null,
   "id": "174a3d9f",
   "metadata": {},
   "outputs": [],
   "source": []
  },
  {
   "cell_type": "code",
   "execution_count": 25,
   "id": "cdb4cc85",
   "metadata": {},
   "outputs": [
    {
     "data": {
      "text/plain": [
       "<tf.Tensor: shape=(3, 1, 14), dtype=float64, numpy=\n",
       "array([[[ 1.16585687, -2.11187895, -2.18630526, -2.10829405,\n",
       "          1.0264963 , -1.34053929, -1.55098787, -0.78419664,\n",
       "         -1.55490762, -1.55781362,  2.41677711, -0.04841058,\n",
       "         -0.29404409,  2.00379135]],\n",
       "\n",
       "       [[ 0.15832031, -1.46022873, -1.46536735, -1.39260223,\n",
       "          0.77280166, -1.12480743, -1.23256645, -0.71985112,\n",
       "         -1.22921766, -1.2338741 ,  1.46481946,  1.8932788 ,\n",
       "          1.86112765, -1.8210882 ]],\n",
       "\n",
       "       [[ 1.62262285, -1.47871527, -1.59144552, -2.13411059,\n",
       "         -0.96198639, -1.13130538, -1.56049298, -0.4437881 ,\n",
       "         -1.56613831, -1.56955056,  1.88305579, -0.71953141,\n",
       "         -0.83283702,  0.37594015]]])>"
      ]
     },
     "execution_count": 25,
     "metadata": {},
     "output_type": "execute_result"
    }
   ],
   "source": [
    "labels"
   ]
  },
  {
   "cell_type": "code",
   "execution_count": 26,
   "id": "0b8213c4",
   "metadata": {
    "scrolled": true
   },
   "outputs": [
    {
     "data": {
      "text/plain": [
       "<tf.Tensor: shape=(3, 1), dtype=float64, numpy=\n",
       "array([[-2.11187895],\n",
       "       [-1.46022873],\n",
       "       [-1.47871527]])>"
      ]
     },
     "execution_count": 26,
     "metadata": {},
     "output_type": "execute_result"
    }
   ],
   "source": [
    "# labels가 ('3', 1, 14) 이므로 3개만 return\n",
    "labels[:, :, 1]"
   ]
  },
  {
   "cell_type": "code",
   "execution_count": 27,
   "id": "90bddd33",
   "metadata": {},
   "outputs": [
    {
     "data": {
      "text/plain": [
       "<tf.Tensor: shape=(3, 1), dtype=float64, numpy=\n",
       "array([[-2.11187895],\n",
       "       [-1.46022873],\n",
       "       [-1.47871527]])>"
      ]
     },
     "execution_count": 27,
     "metadata": {},
     "output_type": "execute_result"
    }
   ],
   "source": [
    "# T (degC) 값만 뽑기\n",
    "labels[:, :, column_indices[\"T (degC)\"]]"
   ]
  },
  {
   "cell_type": "markdown",
   "id": "f9b40888",
   "metadata": {},
   "source": [
    "`labels[:, :, 1]`는 3차원 배열 `labels`에서 마지막 차원의 인덱스 1에 해당하는 모든 요소를 선택하는 것을 나타냅니다. \n",
    "\n",
    "예를 들어, `labels`가 `(batch_size, time_steps, num_features)` 형태의 3차원 배열이고, `num_features`가 3이라고 가정하면, `labels[:, :, 1]`은 모든 배치와 시간 단계에 대해 두 번째 피처에 해당하는 값을 선택합니다.\n",
    "\n",
    "슬라이싱 표기법 `[:, :, 1]`에서 첫 번째 콜론 `:`은 모든 배치를 선택하고, 두 번째 콜론 `:`은 모든 시간 단계를 선택하며, 숫자 1은 세 번째 차원(피처)에서 두 번째 인덱스에 해당하는 값을 선택합니다."
   ]
  },
  {
   "cell_type": "code",
   "execution_count": null,
   "id": "4cbc2e73",
   "metadata": {},
   "outputs": [],
   "source": []
  },
  {
   "cell_type": "code",
   "execution_count": null,
   "id": "01c38380",
   "metadata": {},
   "outputs": [],
   "source": []
  },
  {
   "cell_type": "code",
   "execution_count": 28,
   "id": "3ce0cf2c",
   "metadata": {},
   "outputs": [],
   "source": [
    "label_columns "
   ]
  },
  {
   "cell_type": "code",
   "execution_count": 29,
   "id": "980d0bc0",
   "metadata": {},
   "outputs": [
    {
     "data": {
      "text/plain": [
       "<tf.Tensor: shape=(3, 1, 1), dtype=float64, numpy=\n",
       "array([[[-2.11187895]],\n",
       "\n",
       "       [[-1.46022873]],\n",
       "\n",
       "       [[-1.47871527]]])>"
      ]
     },
     "execution_count": 29,
     "metadata": {},
     "output_type": "execute_result"
    }
   ],
   "source": [
    "tf.stack([labels[:, :, column_indices[name]] for name in label_columns], axis=-1)"
   ]
  },
  {
   "cell_type": "markdown",
   "id": "e88e6e1d",
   "metadata": {},
   "source": [
    "`tf.stack([labels[:, :, column_indices[name]] for name in label_columns], axis=-1)`은 `labels` 배열에서 `label_columns`에 지정된 열에 해당하는 값을 선택하여 새로운 배열을 생성하는 코드입니다.\n",
    "\n",
    "`labels[:, :, column_indices[name]]`은 `labels` 배열에서 모든 배치와 시간 단계에 대해 `column_indices[name]`에 해당하는 열을 선택합니다. 이를 `label_columns` 리스트의 각 열에 대해 반복하고, 선택된 열들을 쌓아서 새로운 배열을 생성합니다. `axis=-1`은 마지막 차원을 따라 배열을 쌓는 것을 의미합니다.\n",
    "\n",
    "즉, 코드는 `labels` 배열에서 `label_columns`에 지정된 열들에 해당하는 값을 선택하여 새로운 배열을 생성하는 작업을 수행합니다. 이렇게 선택된 열들은 마지막 차원(피처)에 쌓여서 새로운 배열이 생성됩니다."
   ]
  },
  {
   "cell_type": "code",
   "execution_count": null,
   "id": "e5cb66dd",
   "metadata": {},
   "outputs": [],
   "source": []
  },
  {
   "cell_type": "code",
   "execution_count": null,
   "id": "bb628ec9",
   "metadata": {},
   "outputs": [],
   "source": []
  },
  {
   "cell_type": "code",
   "execution_count": 30,
   "id": "aea69952",
   "metadata": {},
   "outputs": [
    {
     "data": {
      "text/plain": [
       "6"
      ]
     },
     "execution_count": 30,
     "metadata": {},
     "output_type": "execute_result"
    }
   ],
   "source": [
    "input_width"
   ]
  },
  {
   "cell_type": "code",
   "execution_count": 31,
   "id": "0a398993",
   "metadata": {},
   "outputs": [
    {
     "data": {
      "text/plain": [
       "TensorShape([3, 6, 14])"
      ]
     },
     "execution_count": 31,
     "metadata": {},
     "output_type": "execute_result"
    }
   ],
   "source": [
    "inputs.shape"
   ]
  },
  {
   "cell_type": "code",
   "execution_count": 32,
   "id": "04e19316",
   "metadata": {},
   "outputs": [],
   "source": [
    "inputs.set_shape([None, input_width, None])"
   ]
  },
  {
   "cell_type": "code",
   "execution_count": 33,
   "id": "687bfe5e",
   "metadata": {},
   "outputs": [
    {
     "data": {
      "text/plain": [
       "TensorShape([3, 6, 14])"
      ]
     },
     "execution_count": 33,
     "metadata": {},
     "output_type": "execute_result"
    }
   ],
   "source": [
    "inputs.shape"
   ]
  },
  {
   "cell_type": "code",
   "execution_count": null,
   "id": "21786aee",
   "metadata": {},
   "outputs": [],
   "source": []
  },
  {
   "cell_type": "code",
   "execution_count": null,
   "id": "7ecd2dae",
   "metadata": {},
   "outputs": [],
   "source": []
  },
  {
   "cell_type": "code",
   "execution_count": 35,
   "id": "acbf5a8e",
   "metadata": {},
   "outputs": [
    {
     "data": {
      "text/plain": [
       "1"
      ]
     },
     "execution_count": 35,
     "metadata": {},
     "output_type": "execute_result"
    }
   ],
   "source": [
    "label_width"
   ]
  },
  {
   "cell_type": "code",
   "execution_count": 34,
   "id": "141c21a1",
   "metadata": {},
   "outputs": [
    {
     "data": {
      "text/plain": [
       "TensorShape([3, 1, 14])"
      ]
     },
     "execution_count": 34,
     "metadata": {},
     "output_type": "execute_result"
    }
   ],
   "source": [
    "labels.shape"
   ]
  },
  {
   "cell_type": "code",
   "execution_count": 37,
   "id": "84999af9",
   "metadata": {},
   "outputs": [],
   "source": [
    "labels.set_shape([None, label_width, None])"
   ]
  },
  {
   "cell_type": "code",
   "execution_count": 38,
   "id": "b6d31311",
   "metadata": {},
   "outputs": [
    {
     "data": {
      "text/plain": [
       "TensorShape([3, 1, 14])"
      ]
     },
     "execution_count": 38,
     "metadata": {},
     "output_type": "execute_result"
    }
   ],
   "source": [
    "labels.shape"
   ]
  },
  {
   "cell_type": "code",
   "execution_count": null,
   "id": "0e2e7ee6",
   "metadata": {},
   "outputs": [],
   "source": []
  },
  {
   "cell_type": "code",
   "execution_count": null,
   "id": "0ebd5242",
   "metadata": {},
   "outputs": [],
   "source": []
  },
  {
   "cell_type": "code",
   "execution_count": 43,
   "id": "f53b2a40",
   "metadata": {},
   "outputs": [
    {
     "data": {
      "text/plain": [
       "3"
      ]
     },
     "execution_count": 43,
     "metadata": {},
     "output_type": "execute_result"
    }
   ],
   "source": [
    "max_subplots = 3\n",
    "len(inputs)"
   ]
  },
  {
   "cell_type": "code",
   "execution_count": 44,
   "id": "0009eb40",
   "metadata": {},
   "outputs": [],
   "source": [
    "max_n = min(max_subplots, len(inputs))"
   ]
  },
  {
   "cell_type": "code",
   "execution_count": 45,
   "id": "674c232c",
   "metadata": {},
   "outputs": [
    {
     "data": {
      "text/plain": [
       "3"
      ]
     },
     "execution_count": 45,
     "metadata": {},
     "output_type": "execute_result"
    }
   ],
   "source": [
    "max_n"
   ]
  },
  {
   "cell_type": "code",
   "execution_count": 46,
   "id": "04cd88d1",
   "metadata": {},
   "outputs": [
    {
     "data": {
      "text/plain": [
       "array([0, 1, 2, 3, 4, 5])"
      ]
     },
     "execution_count": 46,
     "metadata": {},
     "output_type": "execute_result"
    }
   ],
   "source": [
    "input_indices"
   ]
  },
  {
   "cell_type": "code",
   "execution_count": 48,
   "id": "3db4f278",
   "metadata": {},
   "outputs": [
    {
     "data": {
      "text/plain": [
       "{'p (mbar)': 0,\n",
       " 'T (degC)': 1,\n",
       " 'Tpot (K)': 2,\n",
       " 'Tdew (degC)': 3,\n",
       " 'rh (%)': 4,\n",
       " 'VPmax (mbar)': 5,\n",
       " 'VPact (mbar)': 6,\n",
       " 'VPdef (mbar)': 7,\n",
       " 'sh (g/kg)': 8,\n",
       " 'H2OC (mmol/mol)': 9,\n",
       " 'rho (g/m**3)': 10,\n",
       " 'wv (m/s)': 11,\n",
       " 'max. wv (m/s)': 12,\n",
       " 'wd (deg)': 13}"
      ]
     },
     "execution_count": 48,
     "metadata": {},
     "output_type": "execute_result"
    }
   ],
   "source": [
    "column_indices"
   ]
  },
  {
   "cell_type": "code",
   "execution_count": 50,
   "id": "feb84d79",
   "metadata": {},
   "outputs": [
    {
     "data": {
      "text/plain": [
       "1"
      ]
     },
     "execution_count": 50,
     "metadata": {},
     "output_type": "execute_result"
    }
   ],
   "source": [
    "column_indices[\"T (degC)\"]"
   ]
  },
  {
   "cell_type": "code",
   "execution_count": 55,
   "id": "f65dcd2c",
   "metadata": {
    "scrolled": false
   },
   "outputs": [
    {
     "data": {
      "text/plain": [
       "<tf.Tensor: shape=(3, 6, 14), dtype=float64, numpy=\n",
       "array([[[ 0.9453076 , -1.98247323, -2.04188844, -1.91897277,\n",
       "          1.11710152, -1.30285119, -1.47732321, -0.79042362,\n",
       "         -1.48003637, -1.48269721,  2.21852381, -1.26685324,\n",
       "         -1.26387137,  0.22183081],\n",
       "        [ 0.95976985, -2.07837211, -2.13816632, -2.06096373,\n",
       "          1.04461734, -1.33014257, -1.53435391, -0.7862723 ,\n",
       "         -1.53618981, -1.53903452,  2.32570755, -1.2407903 ,\n",
       "         -1.26387137,  0.1944336 ],\n",
       "        [ 0.98628397, -2.07028426, -2.13243549, -2.04518696,\n",
       "          1.06273839, -1.32884298, -1.52722507, -0.78834796,\n",
       "         -1.52870268, -1.53199235,  2.32399847, -1.28640045,\n",
       "         -1.26387137, -0.0692646 ],\n",
       "        [ 1.00436178, -2.09801405, -2.16108962, -2.09682003,\n",
       "          1.00837525, -1.33664052, -1.54623531, -0.78212097,\n",
       "         -1.5474205 , -1.55311884,  2.35891254, -1.33852634,\n",
       "         -1.37162996,  0.76178426],\n",
       "        [ 1.06100558, -2.16502773, -2.23215187, -2.18717792,\n",
       "          0.98421386, -1.35353518, -1.57950322, -0.78212097,\n",
       "         -1.58111256, -1.58598227,  2.44631978, -1.14305426,\n",
       "         -1.15611278, -0.18570277],\n",
       "        [ 1.09113526, -2.16964936, -2.23902886, -2.18287516,\n",
       "          1.0144156 , -1.35483477, -1.57950322, -0.7862723 ,\n",
       "         -1.58111256, -1.58363488,  2.4590158 , -1.37110502,\n",
       "         -1.31990584, -0.31127333]],\n",
       "\n",
       "       [[-0.37196209, -1.25687689, -1.22238033, -1.15451638,\n",
       "          0.74259992, -1.03903453, -1.09949481, -0.6990945 ,\n",
       "         -1.09444941, -1.09537822,  1.11787619,  0.77908791,\n",
       "          0.8352659 ,  0.98438663],\n",
       "        [-0.3237546 , -1.25572149, -1.22581883, -1.15881913,\n",
       "          0.72447888, -1.03773494, -1.10187109, -0.69494318,\n",
       "         -1.09819297, -1.09772561,  1.12935144, -0.20478825,\n",
       "          0.02923167,  1.06201208],\n",
       "        [-0.22492924, -1.29269455, -1.2693731 , -1.20758371,\n",
       "          0.71843853, -1.0546296 , -1.13038644, -0.69701884,\n",
       "         -1.12439791, -1.12824165,  1.19307572, -0.56966947,\n",
       "         -0.29404409,  2.0905492 ],\n",
       "        [-0.11887276, -1.36664067, -1.351897  , -1.28646757,\n",
       "          0.74864027, -1.08581975, -1.17553575, -0.70947281,\n",
       "         -1.17306422, -1.17284202,  1.29635299, -0.36768165,\n",
       "         -0.02680279, -1.9765674 ],\n",
       "        [-0.02848372, -1.41170159, -1.40347443, -1.28359907,\n",
       "          0.91777003, -1.10531359, -1.17315947, -0.74060774,\n",
       "         -1.16932066, -1.17284202,  1.36471619, -0.35465018,\n",
       "          0.46026602,  0.16475328],\n",
       "        [ 0.06913645, -1.43249894, -1.4309824 , -1.31228411,\n",
       "          0.90568933, -1.11311113, -1.18979342, -0.73853208,\n",
       "         -1.18803847, -1.18927374,  1.41183798,  0.24479755,\n",
       "          0.46026602, -1.90042597]],\n",
       "\n",
       "       [[ 1.76724532, -2.92182009, -3.03217517, -3.21983946,\n",
       "          0.65803505, -1.51208509, -1.86940929, -0.78212097,\n",
       "         -1.86562333, -1.87236358,  3.47518604, -0.71953141,\n",
       "         -0.45783714, -0.27017751],\n",
       "        [ 1.83112024, -2.81205631, -2.92787414, -3.0778485 ,\n",
       "          0.68219644, -1.49389084, -1.83851766, -0.78004531,\n",
       "         -1.83567483, -1.84184754,  3.36897891, -0.81726745,\n",
       "         -0.7811129 , -0.3420952 ],\n",
       "        [ 1.83353062, -2.5416908 , -2.66081765, -2.79099807,\n",
       "          0.54930877, -1.44190726, -1.76722928, -0.75928869,\n",
       "         -1.7682907 , -1.77377329,  3.0681808 , -0.85636186,\n",
       "         -0.99663008,  0.42274372],\n",
       "        [ 1.76121938, -2.26208201, -2.37771484, -2.55864922,\n",
       "          0.24125101, -1.37822738, -1.70306974, -0.7156998 ,\n",
       "         -1.70465013, -1.70804644,  2.74345557, -0.81075171,\n",
       "         -0.67335432, -0.20168447],\n",
       "        [ 1.70337039, -1.79529711, -1.91122561, -2.31482636,\n",
       "         -0.54882656, -1.24566925, -1.62465252, -0.57040347,\n",
       "         -1.62977888, -1.63293003,  2.23244061, -0.96061364,\n",
       "         -0.83283702,  0.45128249],\n",
       "        [ 1.62985397, -1.61967506, -1.73127768, -2.27610155,\n",
       "         -0.9136636 , -1.18458855, -1.61039485, -0.48530134,\n",
       "         -1.61480463, -1.6188457 ,  2.03125746, -0.73256288,\n",
       "         -0.67335432,  0.32913657]]])>"
      ]
     },
     "execution_count": 55,
     "metadata": {},
     "output_type": "execute_result"
    }
   ],
   "source": [
    "inputs"
   ]
  },
  {
   "cell_type": "code",
   "execution_count": null,
   "id": "56148966",
   "metadata": {},
   "outputs": [],
   "source": []
  },
  {
   "cell_type": "code",
   "execution_count": null,
   "id": "90bcebcd",
   "metadata": {},
   "outputs": [],
   "source": []
  },
  {
   "cell_type": "code",
   "execution_count": 53,
   "id": "f181cdb5",
   "metadata": {},
   "outputs": [
    {
     "data": {
      "text/plain": [
       "<tf.Tensor: shape=(6,), dtype=float64, numpy=\n",
       "array([-1.98247323, -2.07837211, -2.07028426, -2.09801405, -2.16502773,\n",
       "       -2.16964936])>"
      ]
     },
     "execution_count": 53,
     "metadata": {},
     "output_type": "execute_result"
    }
   ],
   "source": [
    "# 첫 번째 window의 모든 timesteps에 대한 T (degC) 값 6(input_width)개\n",
    "inputs[0, :, column_indices[\"T (degC)\"]]"
   ]
  },
  {
   "cell_type": "code",
   "execution_count": 60,
   "id": "6c845eda",
   "metadata": {},
   "outputs": [
    {
     "data": {
      "text/plain": [
       "[<matplotlib.lines.Line2D at 0x1c4662d3c10>]"
      ]
     },
     "execution_count": 60,
     "metadata": {},
     "output_type": "execute_result"
    },
    {
     "data": {
      "image/png": "[encoded data removed]",
      "text/plain": [
       "<Figure size 1200x800 with 1 Axes>"
      ]
     },
     "metadata": {},
     "output_type": "display_data"
    }
   ],
   "source": [
    "plt.figure(figsize=(12, 8))\n",
    "plt.plot(input_indices, inputs[0, :, column_indices[\"T (degC)\"]], marker='.')"
   ]
  },
  {
   "cell_type": "code",
   "execution_count": null,
   "id": "80f9d76e",
   "metadata": {},
   "outputs": [],
   "source": []
  },
  {
   "cell_type": "code",
   "execution_count": null,
   "id": "0c5dc9ce",
   "metadata": {},
   "outputs": [],
   "source": []
  },
  {
   "cell_type": "code",
   "execution_count": 62,
   "id": "18796d6b",
   "metadata": {},
   "outputs": [
    {
     "data": {
      "text/plain": [
       "1"
      ]
     },
     "execution_count": 62,
     "metadata": {},
     "output_type": "execute_result"
    }
   ],
   "source": [
    "column_indices[\"T (degC)\"]"
   ]
  },
  {
   "cell_type": "code",
   "execution_count": 64,
   "id": "3254005a",
   "metadata": {},
   "outputs": [
    {
     "data": {
      "text/plain": [
       "array([6])"
      ]
     },
     "execution_count": 64,
     "metadata": {},
     "output_type": "execute_result"
    }
   ],
   "source": [
    "label_indices"
   ]
  },
  {
   "cell_type": "code",
   "execution_count": 63,
   "id": "3c33c63c",
   "metadata": {},
   "outputs": [
    {
     "data": {
      "text/plain": [
       "<tf.Tensor: shape=(1,), dtype=float64, numpy=array([-2.11187895])>"
      ]
     },
     "execution_count": 63,
     "metadata": {},
     "output_type": "execute_result"
    }
   ],
   "source": [
    "labels[0, :, column_indices[\"T (degC)\"]]"
   ]
  },
  {
   "cell_type": "code",
   "execution_count": 69,
   "id": "2e2a9e95",
   "metadata": {},
   "outputs": [
    {
     "data": {
      "text/plain": [
       "<matplotlib.collections.PathCollection at 0x1c46a5e5a80>"
      ]
     },
     "execution_count": 69,
     "metadata": {},
     "output_type": "execute_result"
    },
    {
     "data": {
      "image/png": "[encoded data removed]",
      "text/plain": [
       "<Figure size 640x480 with 1 Axes>"
      ]
     },
     "metadata": {},
     "output_type": "display_data"
    }
   ],
   "source": [
    "plt.scatter(x=label_indices, y=labels[0, :, column_indices[\"T (degC)\"]],\n",
    "           edgecolors='k', c=\"#2ca02c\", s=64, label=\"predictions\")"
   ]
  },
  {
   "cell_type": "code",
   "execution_count": null,
   "id": "8671c2aa",
   "metadata": {},
   "outputs": [],
   "source": []
  },
  {
   "cell_type": "code",
   "execution_count": null,
   "id": "1bdd4b9f",
   "metadata": {},
   "outputs": [],
   "source": []
  },
  {
   "cell_type": "code",
   "execution_count": 82,
   "id": "37a4182a",
   "metadata": {
    "scrolled": false
   },
   "outputs": [
    {
     "data": {
      "image/png": "[encoded data removed]",
      "text/plain": [
       "<Figure size 1200x800 with 1 Axes>"
      ]
     },
     "metadata": {},
     "output_type": "display_data"
    }
   ],
   "source": [
    "plt.figure(figsize=(12, 8))\n",
    "plt.plot(input_indices, inputs[0, :, column_indices[\"T (degC)\"]], \n",
    "        marker='.', zorder=-10, label=\"inputs\")\n",
    "plt.scatter(label_indices, labels[0, :, column_indices[\"T (degC)\"]],\n",
    "           edgecolors='k', c=\"#2ca02c\", s=64, label=\"Labels\")\n",
    "plt.legend(loc=\"upper right\")\n",
    "plt.xlabel(\"Time [h]\")\n",
    "plt.ylabel(f\"T (degC) [normed]\")\n",
    "plt.show()"
   ]
  },
  {
   "cell_type": "code",
   "execution_count": null,
   "id": "a36d6225",
   "metadata": {},
   "outputs": [],
   "source": []
  },
  {
   "cell_type": "code",
   "execution_count": null,
   "id": "d3f0cdb9",
   "metadata": {},
   "outputs": [],
   "source": []
  },
  {
   "cell_type": "code",
   "execution_count": null,
   "id": "429534fc",
   "metadata": {},
   "outputs": [],
   "source": []
  }
 ],
 "metadata": {
  "kernelspec": {
   "display_name": "Python 3 (ipykernel)",
   "language": "python",
   "name": "python3"
  },
  "language_info": {
   "codemirror_mode": {
    "name": "ipython",
    "version": 3
   },
   "file_extension": ".py",
   "mimetype": "text/x-python",
   "name": "python",
   "nbconvert_exporter": "python",
   "pygments_lexer": "ipython3",
   "version": "3.10.9"
  }
 },
 "nbformat": 4,
 "nbformat_minor": 5
}
